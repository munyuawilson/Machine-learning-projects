{
  "nbformat": 4,
  "nbformat_minor": 0,
  "metadata": {
    "colab": {
      "provenance": []
    },
    "kernelspec": {
      "name": "python3",
      "display_name": "Python 3"
    },
    "language_info": {
      "name": "python"
    }
  },
  "cells": [
    {
      "cell_type": "markdown",
      "source": [
        "**Chords Analysis**"
      ],
      "metadata": {
        "id": "wRpo8XTK92rq"
      }
    },
    {
      "cell_type": "markdown",
      "source": [
        "**Import required Libraries**"
      ],
      "metadata": {
        "id": "qMCB148z-LPJ"
      }
    },
    {
      "cell_type": "code",
      "source": [
        "import pandas as pd\n",
        "import sklearn\n",
        "from sklearn.preprocessing import LabelEncoder\n",
        "from sklearn.model_selection  import train_test_split\n",
        "from sklearn.linear_model import LogisticRegression"
      ],
      "metadata": {
        "id": "tdYouoHL-Ss5"
      },
      "execution_count": null,
      "outputs": []
    },
    {
      "cell_type": "code",
      "source": [],
      "metadata": {
        "id": "Ip66k7PHt1lX"
      },
      "execution_count": null,
      "outputs": []
    },
    {
      "cell_type": "markdown",
      "source": [
        "**Load data**"
      ],
      "metadata": {
        "id": "rOFnNIT--e2I"
      }
    },
    {
      "cell_type": "code",
      "source": [
        "data=pd.read_csv(\"bach.csv\")"
      ],
      "metadata": {
        "id": "iwAi0HZI-o1r"
      },
      "execution_count": null,
      "outputs": []
    },
    {
      "cell_type": "markdown",
      "source": [
        "**Preprocessing**"
      ],
      "metadata": {
        "id": "BvewPKTu-sjm"
      }
    },
    {
      "cell_type": "code",
      "source": [
        "\n",
        "#Getting the data we need\n",
        "data=data.drop(columns=[\"choral_ID\",\"event_number\"])\n",
        "X=data.drop(columns=\"chord_label\")\n",
        "y=data.chord_label"
      ],
      "metadata": {
        "id": "dvhasg-1-0dl"
      },
      "execution_count": null,
      "outputs": []
    },
    {
      "cell_type": "markdown",
      "source": [
        "**Encode text data to numerical data**"
      ],
      "metadata": {
        "id": "oFNTqjm5_LNE"
      }
    },
    {
      "cell_type": "code",
      "source": [
        "le=LabelEncoder()\n",
        "\n",
        "x={}\n",
        "x[\"C\"]=le.fit_transform(X.C)\n",
        "x[\"C#\"]=le.fit_transform(X[\"C#\"])\n",
        "x[\"D\"]=le.fit_transform(X.D)\n",
        "x[\"D#\"]=le.fit_transform(X[\"D#\"])\n",
        "x[\"F\"]=le.fit_transform(X.F)\n",
        "x[\"F#\"]=le.fit_transform(X[\"F#\"])\n",
        "x[\"G\"]=le.fit_transform(X.G)\n",
        "x[\"G#\"]=le.fit_transform(X[\"G#\"])\n",
        "x[\"A\"]=le.fit_transform(X.A)\n",
        "x[\"A#\"]=le.fit_transform(X[\"A#\"])\n",
        "x[\"B\"]=le.fit_transform(X.B)\n",
        "x[\"bass\"]=le.fit_transform(X.bass)\n",
        "x[\"meter\"]=le.fit_transform(X.meter)\n",
        "x[\"E\"]=le.fit_transform(X.E)\n",
        "\n",
        "x=pd.DataFrame(x)\n",
        "y=le.fit_transform(y)"
      ],
      "metadata": {
        "id": "qBP3l_N__PxJ"
      },
      "execution_count": null,
      "outputs": []
    },
    {
      "cell_type": "markdown",
      "source": [
        "**Train the data**"
      ],
      "metadata": {
        "id": "7Z81HVTf_YQf"
      }
    },
    {
      "cell_type": "code",
      "source": [
        "x_train,x_test,y_train,y_test=train_test_split(x,y,test_size=0.2,random_state=42)"
      ],
      "metadata": {
        "id": "4okJbRsv_cCx"
      },
      "execution_count": null,
      "outputs": []
    },
    {
      "cell_type": "markdown",
      "source": [
        "**Predict**"
      ],
      "metadata": {
        "id": "hcqNdraY_i87"
      }
    },
    {
      "cell_type": "code",
      "source": [
        "\n",
        "#use LogisticRegression algorithm to get max accuracy score\n",
        "regressor = LogisticRegression()\n",
        "regressor.fit(x_train,y_train)\n",
        "accuracy=regressor.score(x_train,y_train)\n",
        "print(accuracy)\n",
        "prediction=regressor.predict(x_test)"
      ],
      "metadata": {
        "id": "MRZs7uc1_nxL",
        "colab": {
          "base_uri": "https://localhost:8080/"
        },
        "outputId": "629b4fdd-7cd3-46d9-ff95-3e878f64ded3"
      },
      "execution_count": null,
      "outputs": [
        {
          "output_type": "stream",
          "name": "stdout",
          "text": [
            "0.7268314210061783\n"
          ]
        },
        {
          "output_type": "stream",
          "name": "stderr",
          "text": [
            "/usr/local/lib/python3.7/dist-packages/sklearn/linear_model/_logistic.py:818: ConvergenceWarning: lbfgs failed to converge (status=1):\n",
            "STOP: TOTAL NO. of ITERATIONS REACHED LIMIT.\n",
            "\n",
            "Increase the number of iterations (max_iter) or scale the data as shown in:\n",
            "    https://scikit-learn.org/stable/modules/preprocessing.html\n",
            "Please also refer to the documentation for alternative solver options:\n",
            "    https://scikit-learn.org/stable/modules/linear_model.html#logistic-regression\n",
            "  extra_warning_msg=_LOGISTIC_SOLVER_CONVERGENCE_MSG,\n"
          ]
        }
      ]
    },
    {
      "cell_type": "markdown",
      "source": [
        "**Comparison between predictions and actual**"
      ],
      "metadata": {
        "id": "HLtZ1NlZAQN5"
      }
    },
    {
      "cell_type": "code",
      "source": [
        "comparison_dict={\n",
        "    'prediction':prediction,\n",
        "    'y_test':y_test\n",
        "}\n",
        "comparison_df=pd.DataFrame(comparison_dict)\n",
        "\n",
        "print(comparison_df)"
      ],
      "metadata": {
        "id": "ZPiet2j3AqW4",
        "colab": {
          "base_uri": "https://localhost:8080/"
        },
        "outputId": "09aa7acf-c696-44e5-c775-bbc139c3e521"
      },
      "execution_count": null,
      "outputs": [
        {
          "output_type": "stream",
          "name": "stdout",
          "text": [
            "      prediction  y_test\n",
            "0             63      67\n",
            "1             49      95\n",
            "2             49      52\n",
            "3             94      94\n",
            "4             67      67\n",
            "...          ...     ...\n",
            "1128          99      94\n",
            "1129          35      81\n",
            "1130          35      35\n",
            "1131          81      81\n",
            "1132          78      27\n",
            "\n",
            "[1133 rows x 2 columns]\n"
          ]
        }
      ]
    }
  ]
}