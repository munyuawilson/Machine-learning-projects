{
  "nbformat": 4,
  "nbformat_minor": 0,
  "metadata": {
    "colab": {
      "provenance": []
    },
    "kernelspec": {
      "name": "python3",
      "display_name": "Python 3"
    },
    "language_info": {
      "name": "python"
    }
  },
  "cells": [
    {
      "cell_type": "code",
      "source": [
        "import pandas as pd\n",
        "\n",
        "url = \"https://raw.githubusercontent.com/reisanar/datasets/master/movielens.csv\"\n",
        "\n",
        "# Read the data from movielens.csv\n",
        "data = pd.read_csv(url)\n",
        "\n",
        "# Filter out users who consistently give negative ratings\n",
        "filtered_data = data.groupby('userId').filter(lambda x: x['rating'].mean() >= 2.5)\n",
        "\n",
        "# Compute the average rating, number of ratings, and range of ratings for each movie\n",
        "movie_stats = filtered_data.groupby('title').agg({'rating': ['mean', 'count', lambda x: x.max() - x.min()]})\n",
        "\n",
        "# Identify the movie with the widest range of ratings\n",
        "widest_range_movie = movie_stats[('rating', '<lambda_0>')].idxmax()\n",
        "\n",
        "# Sort the movies by their average rating, from highest to lowest, excluding movies with average rating below 2.5\n",
        "sorted_movies = movie_stats[movie_stats[('rating', 'mean')] >= 2.5].sort_values(('rating', 'mean'), ascending=False)\n",
        "\n",
        "print(\"\\nTop 10 movies:\")\n",
        "print(sorted_movies.head(10))\n"
      ],
      "metadata": {
        "colab": {
          "base_uri": "https://localhost:8080/"
        },
        "id": "C6_NP6aMKz0z",
        "outputId": "6af5ba1b-23b5-4e96-fdb9-62b0823967ab"
      },
      "execution_count": null,
      "outputs": [
        {
          "output_type": "stream",
          "name": "stdout",
          "text": [
            "\n",
            "Top 10 movies:\n",
            "                             rating                 \n",
            "                               mean count <lambda_0>\n",
            "title                                               \n",
            "War Room                        5.0     1        0.0\n",
            "Bleak House                     5.0     1        0.0\n",
            "The Earrings of Madame de...    5.0     2        0.0\n",
            "The Dress                       5.0     1        0.0\n",
            "Boy Crazy                       5.0     1        0.0\n",
            "Manson Family, The              5.0     1        0.0\n",
            "Borgman                         5.0     1        0.0\n",
            "Innocence                       5.0     1        0.0\n",
            "Bone Tomahawk                   5.0     1        0.0\n",
            "Boiling Point                   5.0     1        0.0\n"
          ]
        }
      ]
    }
  ]
}